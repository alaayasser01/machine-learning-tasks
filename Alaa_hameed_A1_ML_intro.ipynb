{
  "cells": [
    {
      "cell_type": "markdown",
      "id": "de24fb44-f309-4b05-833d-d9c98d441069",
      "metadata": {
        "id": "de24fb44-f309-4b05-833d-d9c98d441069",
        "tags": []
      },
      "source": [
        "---\n",
        "# Cairo University Faculty of Engineering\n",
        "## Machine Learning\n",
        "## Assignment 1\n",
        "\n",
        "---"
      ]
    },
    {
      "cell_type": "markdown",
      "id": "04b5d1a1-4378-4074-87ab-2f2c669440e9",
      "metadata": {
        "id": "04b5d1a1-4378-4074-87ab-2f2c669440e9"
      },
      "source": [
        "Please write your full name here\n",
        "- **Name** : \"Alaa Yasser Mahmoud\""
      ]
    },
    {
      "cell_type": "markdown",
      "id": "b21dd90e-5130-4c0f-8dd9-d13a5065db88",
      "metadata": {
        "id": "b21dd90e-5130-4c0f-8dd9-d13a5065db88"
      },
      "source": [
        "## Introduction to Machine Learning\n",
        "For this assignment, you will be using the Breast Cancer Wisconsin (Diagnostic) Database to create a classifier that can help diagnose patients. First, read through the description of the dataset (below)."
      ]
    },
    {
      "cell_type": "code",
      "execution_count": null,
      "id": "68e651ae-cf60-4e23-aa51-4ca39dd77573",
      "metadata": {
        "id": "68e651ae-cf60-4e23-aa51-4ca39dd77573"
      },
      "outputs": [],
      "source": [
        "import numpy as np\n",
        "import pandas as pd\n",
        "from sklearn.datasets import load_breast_cancer\n",
        "\n",
        "cancer = load_breast_cancer()\n",
        "\n",
        "# print(cancer.DESCR) # Print the data set description"
      ]
    },
    {
      "cell_type": "markdown",
      "id": "2351a51c-3694-43d8-92c6-7c236b1beb3e",
      "metadata": {
        "id": "2351a51c-3694-43d8-92c6-7c236b1beb3e"
      },
      "source": [
        "The object returned by `load_breast_cancer()` is a scikit-learn Bunch object, which is similar to a dictionary."
      ]
    },
    {
      "cell_type": "code",
      "execution_count": null,
      "id": "fe395f5a-c610-4171-be0a-bb31d8f5d452",
      "metadata": {
        "id": "fe395f5a-c610-4171-be0a-bb31d8f5d452",
        "outputId": "1d79e7eb-acb2-4669-c14f-56f08bd0eca3",
        "colab": {
          "base_uri": "https://localhost:8080/"
        }
      },
      "outputs": [
        {
          "output_type": "execute_result",
          "data": {
            "text/plain": [
              "dict_keys(['data', 'target', 'frame', 'target_names', 'DESCR', 'feature_names', 'filename', 'data_module'])"
            ]
          },
          "metadata": {},
          "execution_count": 44
        }
      ],
      "source": [
        "cancer.keys()\n",
        "# print(cancer['feature_names'])\n",
        "# df['target'] = pd.Series(cancer.target)"
      ]
    },
    {
      "cell_type": "markdown",
      "id": "1892678c-6743-4719-ac12-2c8775c35969",
      "metadata": {
        "id": "1892678c-6743-4719-ac12-2c8775c35969"
      },
      "source": [
        "### Question 0\n",
        "\n",
        "How many features does the breast cancer dataset have?\n",
        "\n",
        "*This function should return an integer.*"
      ]
    },
    {
      "cell_type": "code",
      "execution_count": null,
      "id": "f5a2a53b-71b5-4f24-a7c5-9523a2f28cdd",
      "metadata": {
        "id": "f5a2a53b-71b5-4f24-a7c5-9523a2f28cdd"
      },
      "outputs": [],
      "source": [
        "def answer_zero():\n",
        "    features_count = 0\n",
        "    for i in cancer.feature_names:\n",
        "      features_count+=1\n",
        "    return features_count\n",
        "#answer_zero()\n"
      ]
    },
    {
      "cell_type": "markdown",
      "id": "4f4a4289-dc2f-498a-8305-afe03ff24714",
      "metadata": {
        "id": "4f4a4289-dc2f-498a-8305-afe03ff24714"
      },
      "source": [
        "### Question 1\n",
        "Pandas dataframes are much easier and more interpretable when dealing with tables. **Convert the cancer data into dataframe.**\n",
        "\n",
        "Note: Scikit-learn works with lists, numpy arrays, scipy-sparse matrices, and pandas DataFrames, so converting the dataset to a DataFrame is not necessary for training any model.\n",
        "\n",
        "*This function should return a (569, 31) DataFrame with *\n",
        "\n",
        "*columns = *\n",
        "\n",
        "    ['mean radius', 'mean texture', 'mean perimeter', 'mean area',\n",
        "    'mean smoothness', 'mean compactness', 'mean concavity',\n",
        "    'mean concave points', 'mean symmetry', 'mean fractal dimension',\n",
        "    'radius error', 'texture error', 'perimeter error', 'area error',\n",
        "    'smoothness error', 'compactness error', 'concavity error',\n",
        "    'concave points error', 'symmetry error', 'fractal dimension error',\n",
        "    'worst radius', 'worst texture', 'worst perimeter', 'worst area',\n",
        "    'worst smoothness', 'worst compactness', 'worst concavity',\n",
        "    'worst concave points', 'worst symmetry', 'worst fractal dimension',\n",
        "    'target']\n",
        "    \n",
        "*and index = *\n",
        "\n",
        "RangeIndex(start=0, stop=569, step=1)"
      ]
    },
    {
      "cell_type": "code",
      "execution_count": null,
      "id": "233db5f6-d74f-42ee-b6c3-537447effcab",
      "metadata": {
        "id": "233db5f6-d74f-42ee-b6c3-537447effcab",
        "colab": {
          "base_uri": "https://localhost:8080/",
          "height": 522
        },
        "outputId": "ff192f41-6fb1-4cef-dc88-e11182df667e"
      },
      "outputs": [
        {
          "output_type": "execute_result",
          "data": {
            "text/plain": [
              "     mean radius  mean texture  mean perimeter  mean area  mean smoothness  \\\n",
              "0          17.99         10.38          122.80     1001.0          0.11840   \n",
              "1          20.57         17.77          132.90     1326.0          0.08474   \n",
              "2          19.69         21.25          130.00     1203.0          0.10960   \n",
              "3          11.42         20.38           77.58      386.1          0.14250   \n",
              "4          20.29         14.34          135.10     1297.0          0.10030   \n",
              "..           ...           ...             ...        ...              ...   \n",
              "564        21.56         22.39          142.00     1479.0          0.11100   \n",
              "565        20.13         28.25          131.20     1261.0          0.09780   \n",
              "566        16.60         28.08          108.30      858.1          0.08455   \n",
              "567        20.60         29.33          140.10     1265.0          0.11780   \n",
              "568         7.76         24.54           47.92      181.0          0.05263   \n",
              "\n",
              "     mean compactness  mean concavity  mean concave points  mean symmetry  \\\n",
              "0             0.27760         0.30010              0.14710         0.2419   \n",
              "1             0.07864         0.08690              0.07017         0.1812   \n",
              "2             0.15990         0.19740              0.12790         0.2069   \n",
              "3             0.28390         0.24140              0.10520         0.2597   \n",
              "4             0.13280         0.19800              0.10430         0.1809   \n",
              "..                ...             ...                  ...            ...   \n",
              "564           0.11590         0.24390              0.13890         0.1726   \n",
              "565           0.10340         0.14400              0.09791         0.1752   \n",
              "566           0.10230         0.09251              0.05302         0.1590   \n",
              "567           0.27700         0.35140              0.15200         0.2397   \n",
              "568           0.04362         0.00000              0.00000         0.1587   \n",
              "\n",
              "     mean fractal dimension  ...  worst texture  worst perimeter  worst area  \\\n",
              "0                   0.07871  ...          17.33           184.60      2019.0   \n",
              "1                   0.05667  ...          23.41           158.80      1956.0   \n",
              "2                   0.05999  ...          25.53           152.50      1709.0   \n",
              "3                   0.09744  ...          26.50            98.87       567.7   \n",
              "4                   0.05883  ...          16.67           152.20      1575.0   \n",
              "..                      ...  ...            ...              ...         ...   \n",
              "564                 0.05623  ...          26.40           166.10      2027.0   \n",
              "565                 0.05533  ...          38.25           155.00      1731.0   \n",
              "566                 0.05648  ...          34.12           126.70      1124.0   \n",
              "567                 0.07016  ...          39.42           184.60      1821.0   \n",
              "568                 0.05884  ...          30.37            59.16       268.6   \n",
              "\n",
              "     worst smoothness  worst compactness  worst concavity  \\\n",
              "0             0.16220            0.66560           0.7119   \n",
              "1             0.12380            0.18660           0.2416   \n",
              "2             0.14440            0.42450           0.4504   \n",
              "3             0.20980            0.86630           0.6869   \n",
              "4             0.13740            0.20500           0.4000   \n",
              "..                ...                ...              ...   \n",
              "564           0.14100            0.21130           0.4107   \n",
              "565           0.11660            0.19220           0.3215   \n",
              "566           0.11390            0.30940           0.3403   \n",
              "567           0.16500            0.86810           0.9387   \n",
              "568           0.08996            0.06444           0.0000   \n",
              "\n",
              "     worst concave points  worst symmetry  worst fractal dimension  target  \n",
              "0                  0.2654          0.4601                  0.11890       0  \n",
              "1                  0.1860          0.2750                  0.08902       0  \n",
              "2                  0.2430          0.3613                  0.08758       0  \n",
              "3                  0.2575          0.6638                  0.17300       0  \n",
              "4                  0.1625          0.2364                  0.07678       0  \n",
              "..                    ...             ...                      ...     ...  \n",
              "564                0.2216          0.2060                  0.07115       0  \n",
              "565                0.1628          0.2572                  0.06637       0  \n",
              "566                0.1418          0.2218                  0.07820       0  \n",
              "567                0.2650          0.4087                  0.12400       0  \n",
              "568                0.0000          0.2871                  0.07039       1  \n",
              "\n",
              "[569 rows x 31 columns]"
            ],
            "text/html": [
              "\n",
              "  <div id=\"df-7152643d-ca0e-4fa4-8165-744f5396387c\">\n",
              "    <div class=\"colab-df-container\">\n",
              "      <div>\n",
              "<style scoped>\n",
              "    .dataframe tbody tr th:only-of-type {\n",
              "        vertical-align: middle;\n",
              "    }\n",
              "\n",
              "    .dataframe tbody tr th {\n",
              "        vertical-align: top;\n",
              "    }\n",
              "\n",
              "    .dataframe thead th {\n",
              "        text-align: right;\n",
              "    }\n",
              "</style>\n",
              "<table border=\"1\" class=\"dataframe\">\n",
              "  <thead>\n",
              "    <tr style=\"text-align: right;\">\n",
              "      <th></th>\n",
              "      <th>mean radius</th>\n",
              "      <th>mean texture</th>\n",
              "      <th>mean perimeter</th>\n",
              "      <th>mean area</th>\n",
              "      <th>mean smoothness</th>\n",
              "      <th>mean compactness</th>\n",
              "      <th>mean concavity</th>\n",
              "      <th>mean concave points</th>\n",
              "      <th>mean symmetry</th>\n",
              "      <th>mean fractal dimension</th>\n",
              "      <th>...</th>\n",
              "      <th>worst texture</th>\n",
              "      <th>worst perimeter</th>\n",
              "      <th>worst area</th>\n",
              "      <th>worst smoothness</th>\n",
              "      <th>worst compactness</th>\n",
              "      <th>worst concavity</th>\n",
              "      <th>worst concave points</th>\n",
              "      <th>worst symmetry</th>\n",
              "      <th>worst fractal dimension</th>\n",
              "      <th>target</th>\n",
              "    </tr>\n",
              "  </thead>\n",
              "  <tbody>\n",
              "    <tr>\n",
              "      <th>0</th>\n",
              "      <td>17.99</td>\n",
              "      <td>10.38</td>\n",
              "      <td>122.80</td>\n",
              "      <td>1001.0</td>\n",
              "      <td>0.11840</td>\n",
              "      <td>0.27760</td>\n",
              "      <td>0.30010</td>\n",
              "      <td>0.14710</td>\n",
              "      <td>0.2419</td>\n",
              "      <td>0.07871</td>\n",
              "      <td>...</td>\n",
              "      <td>17.33</td>\n",
              "      <td>184.60</td>\n",
              "      <td>2019.0</td>\n",
              "      <td>0.16220</td>\n",
              "      <td>0.66560</td>\n",
              "      <td>0.7119</td>\n",
              "      <td>0.2654</td>\n",
              "      <td>0.4601</td>\n",
              "      <td>0.11890</td>\n",
              "      <td>0</td>\n",
              "    </tr>\n",
              "    <tr>\n",
              "      <th>1</th>\n",
              "      <td>20.57</td>\n",
              "      <td>17.77</td>\n",
              "      <td>132.90</td>\n",
              "      <td>1326.0</td>\n",
              "      <td>0.08474</td>\n",
              "      <td>0.07864</td>\n",
              "      <td>0.08690</td>\n",
              "      <td>0.07017</td>\n",
              "      <td>0.1812</td>\n",
              "      <td>0.05667</td>\n",
              "      <td>...</td>\n",
              "      <td>23.41</td>\n",
              "      <td>158.80</td>\n",
              "      <td>1956.0</td>\n",
              "      <td>0.12380</td>\n",
              "      <td>0.18660</td>\n",
              "      <td>0.2416</td>\n",
              "      <td>0.1860</td>\n",
              "      <td>0.2750</td>\n",
              "      <td>0.08902</td>\n",
              "      <td>0</td>\n",
              "    </tr>\n",
              "    <tr>\n",
              "      <th>2</th>\n",
              "      <td>19.69</td>\n",
              "      <td>21.25</td>\n",
              "      <td>130.00</td>\n",
              "      <td>1203.0</td>\n",
              "      <td>0.10960</td>\n",
              "      <td>0.15990</td>\n",
              "      <td>0.19740</td>\n",
              "      <td>0.12790</td>\n",
              "      <td>0.2069</td>\n",
              "      <td>0.05999</td>\n",
              "      <td>...</td>\n",
              "      <td>25.53</td>\n",
              "      <td>152.50</td>\n",
              "      <td>1709.0</td>\n",
              "      <td>0.14440</td>\n",
              "      <td>0.42450</td>\n",
              "      <td>0.4504</td>\n",
              "      <td>0.2430</td>\n",
              "      <td>0.3613</td>\n",
              "      <td>0.08758</td>\n",
              "      <td>0</td>\n",
              "    </tr>\n",
              "    <tr>\n",
              "      <th>3</th>\n",
              "      <td>11.42</td>\n",
              "      <td>20.38</td>\n",
              "      <td>77.58</td>\n",
              "      <td>386.1</td>\n",
              "      <td>0.14250</td>\n",
              "      <td>0.28390</td>\n",
              "      <td>0.24140</td>\n",
              "      <td>0.10520</td>\n",
              "      <td>0.2597</td>\n",
              "      <td>0.09744</td>\n",
              "      <td>...</td>\n",
              "      <td>26.50</td>\n",
              "      <td>98.87</td>\n",
              "      <td>567.7</td>\n",
              "      <td>0.20980</td>\n",
              "      <td>0.86630</td>\n",
              "      <td>0.6869</td>\n",
              "      <td>0.2575</td>\n",
              "      <td>0.6638</td>\n",
              "      <td>0.17300</td>\n",
              "      <td>0</td>\n",
              "    </tr>\n",
              "    <tr>\n",
              "      <th>4</th>\n",
              "      <td>20.29</td>\n",
              "      <td>14.34</td>\n",
              "      <td>135.10</td>\n",
              "      <td>1297.0</td>\n",
              "      <td>0.10030</td>\n",
              "      <td>0.13280</td>\n",
              "      <td>0.19800</td>\n",
              "      <td>0.10430</td>\n",
              "      <td>0.1809</td>\n",
              "      <td>0.05883</td>\n",
              "      <td>...</td>\n",
              "      <td>16.67</td>\n",
              "      <td>152.20</td>\n",
              "      <td>1575.0</td>\n",
              "      <td>0.13740</td>\n",
              "      <td>0.20500</td>\n",
              "      <td>0.4000</td>\n",
              "      <td>0.1625</td>\n",
              "      <td>0.2364</td>\n",
              "      <td>0.07678</td>\n",
              "      <td>0</td>\n",
              "    </tr>\n",
              "    <tr>\n",
              "      <th>...</th>\n",
              "      <td>...</td>\n",
              "      <td>...</td>\n",
              "      <td>...</td>\n",
              "      <td>...</td>\n",
              "      <td>...</td>\n",
              "      <td>...</td>\n",
              "      <td>...</td>\n",
              "      <td>...</td>\n",
              "      <td>...</td>\n",
              "      <td>...</td>\n",
              "      <td>...</td>\n",
              "      <td>...</td>\n",
              "      <td>...</td>\n",
              "      <td>...</td>\n",
              "      <td>...</td>\n",
              "      <td>...</td>\n",
              "      <td>...</td>\n",
              "      <td>...</td>\n",
              "      <td>...</td>\n",
              "      <td>...</td>\n",
              "      <td>...</td>\n",
              "    </tr>\n",
              "    <tr>\n",
              "      <th>564</th>\n",
              "      <td>21.56</td>\n",
              "      <td>22.39</td>\n",
              "      <td>142.00</td>\n",
              "      <td>1479.0</td>\n",
              "      <td>0.11100</td>\n",
              "      <td>0.11590</td>\n",
              "      <td>0.24390</td>\n",
              "      <td>0.13890</td>\n",
              "      <td>0.1726</td>\n",
              "      <td>0.05623</td>\n",
              "      <td>...</td>\n",
              "      <td>26.40</td>\n",
              "      <td>166.10</td>\n",
              "      <td>2027.0</td>\n",
              "      <td>0.14100</td>\n",
              "      <td>0.21130</td>\n",
              "      <td>0.4107</td>\n",
              "      <td>0.2216</td>\n",
              "      <td>0.2060</td>\n",
              "      <td>0.07115</td>\n",
              "      <td>0</td>\n",
              "    </tr>\n",
              "    <tr>\n",
              "      <th>565</th>\n",
              "      <td>20.13</td>\n",
              "      <td>28.25</td>\n",
              "      <td>131.20</td>\n",
              "      <td>1261.0</td>\n",
              "      <td>0.09780</td>\n",
              "      <td>0.10340</td>\n",
              "      <td>0.14400</td>\n",
              "      <td>0.09791</td>\n",
              "      <td>0.1752</td>\n",
              "      <td>0.05533</td>\n",
              "      <td>...</td>\n",
              "      <td>38.25</td>\n",
              "      <td>155.00</td>\n",
              "      <td>1731.0</td>\n",
              "      <td>0.11660</td>\n",
              "      <td>0.19220</td>\n",
              "      <td>0.3215</td>\n",
              "      <td>0.1628</td>\n",
              "      <td>0.2572</td>\n",
              "      <td>0.06637</td>\n",
              "      <td>0</td>\n",
              "    </tr>\n",
              "    <tr>\n",
              "      <th>566</th>\n",
              "      <td>16.60</td>\n",
              "      <td>28.08</td>\n",
              "      <td>108.30</td>\n",
              "      <td>858.1</td>\n",
              "      <td>0.08455</td>\n",
              "      <td>0.10230</td>\n",
              "      <td>0.09251</td>\n",
              "      <td>0.05302</td>\n",
              "      <td>0.1590</td>\n",
              "      <td>0.05648</td>\n",
              "      <td>...</td>\n",
              "      <td>34.12</td>\n",
              "      <td>126.70</td>\n",
              "      <td>1124.0</td>\n",
              "      <td>0.11390</td>\n",
              "      <td>0.30940</td>\n",
              "      <td>0.3403</td>\n",
              "      <td>0.1418</td>\n",
              "      <td>0.2218</td>\n",
              "      <td>0.07820</td>\n",
              "      <td>0</td>\n",
              "    </tr>\n",
              "    <tr>\n",
              "      <th>567</th>\n",
              "      <td>20.60</td>\n",
              "      <td>29.33</td>\n",
              "      <td>140.10</td>\n",
              "      <td>1265.0</td>\n",
              "      <td>0.11780</td>\n",
              "      <td>0.27700</td>\n",
              "      <td>0.35140</td>\n",
              "      <td>0.15200</td>\n",
              "      <td>0.2397</td>\n",
              "      <td>0.07016</td>\n",
              "      <td>...</td>\n",
              "      <td>39.42</td>\n",
              "      <td>184.60</td>\n",
              "      <td>1821.0</td>\n",
              "      <td>0.16500</td>\n",
              "      <td>0.86810</td>\n",
              "      <td>0.9387</td>\n",
              "      <td>0.2650</td>\n",
              "      <td>0.4087</td>\n",
              "      <td>0.12400</td>\n",
              "      <td>0</td>\n",
              "    </tr>\n",
              "    <tr>\n",
              "      <th>568</th>\n",
              "      <td>7.76</td>\n",
              "      <td>24.54</td>\n",
              "      <td>47.92</td>\n",
              "      <td>181.0</td>\n",
              "      <td>0.05263</td>\n",
              "      <td>0.04362</td>\n",
              "      <td>0.00000</td>\n",
              "      <td>0.00000</td>\n",
              "      <td>0.1587</td>\n",
              "      <td>0.05884</td>\n",
              "      <td>...</td>\n",
              "      <td>30.37</td>\n",
              "      <td>59.16</td>\n",
              "      <td>268.6</td>\n",
              "      <td>0.08996</td>\n",
              "      <td>0.06444</td>\n",
              "      <td>0.0000</td>\n",
              "      <td>0.0000</td>\n",
              "      <td>0.2871</td>\n",
              "      <td>0.07039</td>\n",
              "      <td>1</td>\n",
              "    </tr>\n",
              "  </tbody>\n",
              "</table>\n",
              "<p>569 rows × 31 columns</p>\n",
              "</div>\n",
              "      <button class=\"colab-df-convert\" onclick=\"convertToInteractive('df-7152643d-ca0e-4fa4-8165-744f5396387c')\"\n",
              "              title=\"Convert this dataframe to an interactive table.\"\n",
              "              style=\"display:none;\">\n",
              "        \n",
              "  <svg xmlns=\"http://www.w3.org/2000/svg\" height=\"24px\"viewBox=\"0 0 24 24\"\n",
              "       width=\"24px\">\n",
              "    <path d=\"M0 0h24v24H0V0z\" fill=\"none\"/>\n",
              "    <path d=\"M18.56 5.44l.94 2.06.94-2.06 2.06-.94-2.06-.94-.94-2.06-.94 2.06-2.06.94zm-11 1L8.5 8.5l.94-2.06 2.06-.94-2.06-.94L8.5 2.5l-.94 2.06-2.06.94zm10 10l.94 2.06.94-2.06 2.06-.94-2.06-.94-.94-2.06-.94 2.06-2.06.94z\"/><path d=\"M17.41 7.96l-1.37-1.37c-.4-.4-.92-.59-1.43-.59-.52 0-1.04.2-1.43.59L10.3 9.45l-7.72 7.72c-.78.78-.78 2.05 0 2.83L4 21.41c.39.39.9.59 1.41.59.51 0 1.02-.2 1.41-.59l7.78-7.78 2.81-2.81c.8-.78.8-2.07 0-2.86zM5.41 20L4 18.59l7.72-7.72 1.47 1.35L5.41 20z\"/>\n",
              "  </svg>\n",
              "      </button>\n",
              "      \n",
              "  <style>\n",
              "    .colab-df-container {\n",
              "      display:flex;\n",
              "      flex-wrap:wrap;\n",
              "      gap: 12px;\n",
              "    }\n",
              "\n",
              "    .colab-df-convert {\n",
              "      background-color: #E8F0FE;\n",
              "      border: none;\n",
              "      border-radius: 50%;\n",
              "      cursor: pointer;\n",
              "      display: none;\n",
              "      fill: #1967D2;\n",
              "      height: 32px;\n",
              "      padding: 0 0 0 0;\n",
              "      width: 32px;\n",
              "    }\n",
              "\n",
              "    .colab-df-convert:hover {\n",
              "      background-color: #E2EBFA;\n",
              "      box-shadow: 0px 1px 2px rgba(60, 64, 67, 0.3), 0px 1px 3px 1px rgba(60, 64, 67, 0.15);\n",
              "      fill: #174EA6;\n",
              "    }\n",
              "\n",
              "    [theme=dark] .colab-df-convert {\n",
              "      background-color: #3B4455;\n",
              "      fill: #D2E3FC;\n",
              "    }\n",
              "\n",
              "    [theme=dark] .colab-df-convert:hover {\n",
              "      background-color: #434B5C;\n",
              "      box-shadow: 0px 1px 3px 1px rgba(0, 0, 0, 0.15);\n",
              "      filter: drop-shadow(0px 1px 2px rgba(0, 0, 0, 0.3));\n",
              "      fill: #FFFFFF;\n",
              "    }\n",
              "  </style>\n",
              "\n",
              "      <script>\n",
              "        const buttonEl =\n",
              "          document.querySelector('#df-7152643d-ca0e-4fa4-8165-744f5396387c button.colab-df-convert');\n",
              "        buttonEl.style.display =\n",
              "          google.colab.kernel.accessAllowed ? 'block' : 'none';\n",
              "\n",
              "        async function convertToInteractive(key) {\n",
              "          const element = document.querySelector('#df-7152643d-ca0e-4fa4-8165-744f5396387c');\n",
              "          const dataTable =\n",
              "            await google.colab.kernel.invokeFunction('convertToInteractive',\n",
              "                                                     [key], {});\n",
              "          if (!dataTable) return;\n",
              "\n",
              "          const docLinkHtml = 'Like what you see? Visit the ' +\n",
              "            '<a target=\"_blank\" href=https://colab.research.google.com/notebooks/data_table.ipynb>data table notebook</a>'\n",
              "            + ' to learn more about interactive tables.';\n",
              "          element.innerHTML = '';\n",
              "          dataTable['output_type'] = 'display_data';\n",
              "          await google.colab.output.renderOutput(dataTable, element);\n",
              "          const docLink = document.createElement('div');\n",
              "          docLink.innerHTML = docLinkHtml;\n",
              "          element.appendChild(docLink);\n",
              "        }\n",
              "      </script>\n",
              "    </div>\n",
              "  </div>\n",
              "  "
            ]
          },
          "metadata": {},
          "execution_count": 49
        }
      ],
      "source": [
        "def answer_one():\n",
        "\n",
        "    df = pd.DataFrame(cancer.data, columns=cancer.feature_names )\n",
        "    df['target']= cancer.target\n",
        "    return df\n",
        "\n",
        "answer_one()"
      ]
    },
    {
      "cell_type": "markdown",
      "id": "8e4add0a-d9d3-4052-bcf2-56b61c4bf53f",
      "metadata": {
        "id": "8e4add0a-d9d3-4052-bcf2-56b61c4bf53f"
      },
      "source": [
        "### Question 2\n",
        "What is the class distribution? (i.e. how many instances of `malignant` and how many `benign`?)"
      ]
    },
    {
      "cell_type": "code",
      "execution_count": null,
      "id": "514559d7-5afe-4e40-aca8-c257dca18a5f",
      "metadata": {
        "id": "514559d7-5afe-4e40-aca8-c257dca18a5f",
        "colab": {
          "base_uri": "https://localhost:8080/"
        },
        "outputId": "c39bf121-0ad1-457e-ce19-15a1281f8582"
      },
      "outputs": [
        {
          "output_type": "execute_result",
          "data": {
            "text/plain": [
              "(357, 212)"
            ]
          },
          "metadata": {},
          "execution_count": 48
        }
      ],
      "source": [
        "def answer_two():\n",
        "    cancerdf = answer_one()\n",
        "    malignant_count = 0\n",
        "    benign_count = 0\n",
        "    for i in cancerdf.target:\n",
        "      if (i==1):\n",
        "        benign_count+=1\n",
        "      else:\n",
        "        malignant_count+=1\n",
        "\n",
        "    return benign_count, malignant_count\n",
        "\n",
        "\n",
        "answer_two()"
      ]
    },
    {
      "cell_type": "markdown",
      "id": "5c8cc5ea-3c4b-45aa-98a3-255d5b2a1b77",
      "metadata": {
        "id": "5c8cc5ea-3c4b-45aa-98a3-255d5b2a1b77"
      },
      "source": [
        "### Question 3\n",
        "Split the DataFrame into `X` (the data) and `y` (the labels)."
      ]
    },
    {
      "cell_type": "code",
      "execution_count": null,
      "id": "44a936d7-b539-4311-a137-d0304610dd09",
      "metadata": {
        "id": "44a936d7-b539-4311-a137-d0304610dd09"
      },
      "outputs": [],
      "source": [
        "def answer_three():\n",
        "    cancerdf = answer_one()\n",
        "    X = cancerdf.iloc[:, 0:30]\n",
        "    y = cancerdf.iloc[:, 30:31]\n",
        "    return X,y\n",
        "# answer_three()"
      ]
    },
    {
      "cell_type": "markdown",
      "id": "0f3336f9-9517-4a9a-91ca-fba2bb25d6dc",
      "metadata": {
        "id": "0f3336f9-9517-4a9a-91ca-fba2bb25d6dc"
      },
      "source": [
        "### Question 4\n",
        "Using `train_test_split`, split `X` and `y` into training and test sets"
      ]
    },
    {
      "cell_type": "code",
      "execution_count": null,
      "id": "180b69e2-b4cb-488f-909e-79cee866fa4f",
      "metadata": {
        "id": "180b69e2-b4cb-488f-909e-79cee866fa4f"
      },
      "outputs": [],
      "source": [
        "from sklearn.model_selection import train_test_split\n",
        "\n",
        "def answer_four():\n",
        "    X, y = answer_three()\n",
        "    X_train, X_test, y_train, y_test = train_test_split(X, y, random_state=0)\n",
        "\n",
        "    return X_train, X_test, y_train, y_test"
      ]
    },
    {
      "cell_type": "markdown",
      "id": "bcb50095-8bec-4d75-9160-8338f9801dae",
      "metadata": {
        "id": "bcb50095-8bec-4d75-9160-8338f9801dae"
      },
      "source": [
        "### Question 5\n",
        "Using KNeighborsClassifier, fit a k-nearest neighbors (knn) classifier with `X_train`, `y_train`."
      ]
    },
    {
      "cell_type": "code",
      "execution_count": null,
      "id": "a6e5acd3-af98-4ab7-b309-40b319f9bf33",
      "metadata": {
        "id": "a6e5acd3-af98-4ab7-b309-40b319f9bf33",
        "colab": {
          "base_uri": "https://localhost:8080/"
        },
        "outputId": "559280d5-804e-4bf2-9462-ef958b088e5b"
      },
      "outputs": [
        {
          "output_type": "stream",
          "name": "stderr",
          "text": [
            "/usr/local/lib/python3.8/dist-packages/sklearn/neighbors/_classification.py:198: DataConversionWarning: A column-vector y was passed when a 1d array was expected. Please change the shape of y to (n_samples,), for example using ravel().\n",
            "  return self._fit(X, y)\n"
          ]
        },
        {
          "output_type": "execute_result",
          "data": {
            "text/plain": [
              "KNeighborsClassifier()"
            ]
          },
          "metadata": {},
          "execution_count": 52
        }
      ],
      "source": [
        "from sklearn.neighbors import KNeighborsClassifier\n",
        "\n",
        "def answer_five():\n",
        "    X_train, X_test, y_train, y_test = answer_four()\n",
        "    knn = KNeighborsClassifier(n_neighbors = 5)\n",
        "    knn.fit(X_train, y_train)\n",
        "\n",
        "    return knn\n",
        "\n",
        "answer_five()"
      ]
    },
    {
      "cell_type": "markdown",
      "id": "55dbd498-cb23-4cab-9138-c4b7e7db82c1",
      "metadata": {
        "id": "55dbd498-cb23-4cab-9138-c4b7e7db82c1"
      },
      "source": [
        "### Question 6\n",
        "Using your knn classifier, predict the class label using the median value for each feature."
      ]
    },
    {
      "cell_type": "code",
      "execution_count": null,
      "id": "e6d989ab-6fd5-440a-933f-b6c6ff1072b4",
      "metadata": {
        "id": "e6d989ab-6fd5-440a-933f-b6c6ff1072b4",
        "colab": {
          "base_uri": "https://localhost:8080/"
        },
        "outputId": "f4ffd9da-f00f-40cb-d9ae-800a4458a881"
      },
      "outputs": [
        {
          "output_type": "stream",
          "name": "stderr",
          "text": [
            "/usr/local/lib/python3.8/dist-packages/sklearn/neighbors/_classification.py:198: DataConversionWarning: A column-vector y was passed when a 1d array was expected. Please change the shape of y to (n_samples,), for example using ravel().\n",
            "  return self._fit(X, y)\n"
          ]
        },
        {
          "output_type": "execute_result",
          "data": {
            "text/plain": [
              "1"
            ]
          },
          "metadata": {},
          "execution_count": 53
        }
      ],
      "source": [
        "def answer_six():\n",
        "    cancerdf = answer_one()\n",
        "    X = cancerdf.iloc[:, 0:30]\n",
        "    X = X.median()\n",
        "    X_med = X.to_frame().T\n",
        "    predict =  answer_five().predict(X_med)\n",
        "    return predict[0]\n",
        "answer_six()"
      ]
    },
    {
      "cell_type": "markdown",
      "id": "07065db3-e464-473f-ab71-dbfeeee097f6",
      "metadata": {
        "id": "07065db3-e464-473f-ab71-dbfeeee097f6"
      },
      "source": [
        "### Question 7\n",
        "Using your knn classifier, predict the class labels for the test set `X_test`."
      ]
    },
    {
      "cell_type": "code",
      "execution_count": null,
      "id": "8f4b7833-53ee-4a3d-8dea-ad654cf3d47f",
      "metadata": {
        "id": "8f4b7833-53ee-4a3d-8dea-ad654cf3d47f"
      },
      "outputs": [],
      "source": [
        "def answer_seven():\n",
        "    X_train, X_test, y_train, y_test = answer_four()\n",
        "    knn = answer_five()\n",
        "\n",
        "    return knn.predict(X_test)\n",
        "# answer_seven()"
      ]
    },
    {
      "cell_type": "markdown",
      "id": "42288a73-b635-402d-8c26-229dc49c79f8",
      "metadata": {
        "id": "42288a73-b635-402d-8c26-229dc49c79f8"
      },
      "source": [
        "### Question 8\n",
        "Find the score (accuracy) of your knn classifier using `X_test` and `y_test` & `X_train` and `y_train`.\n",
        "- Is the training accuracy higher or lower that the testing accuracy?\n",
        "  <br/>`training accuracy is slightly higher than the testing accuracy (unseen data by the model) `\n",
        "- According to the test accuracy, would this model generalize well to new inputs?\n",
        "<br/>`yes, The amount of correct classifications are ~ 94% for the testing (new) inputs `"
      ]
    },
    {
      "cell_type": "code",
      "execution_count": null,
      "id": "27fa57dd-8326-4fe7-9110-4b5ba3d921fe",
      "metadata": {
        "id": "27fa57dd-8326-4fe7-9110-4b5ba3d921fe"
      },
      "outputs": [],
      "source": [
        "def answer_eight():\n",
        "    X_train, X_test, y_train, y_test = answer_four()\n",
        "    knn = answer_five()\n",
        "    knn.fit(X_train , y_train)\n",
        "    test_score = knn.score(X_test, y_test)\n",
        "    train_score = knn.score(X_train, y_train)\n",
        "\n",
        "    return test_score , train_score\n",
        "# answer_eight()"
      ]
    },
    {
      "cell_type": "markdown",
      "id": "cb4d1ae2-967b-4df0-9bf0-2872b0c53535",
      "metadata": {
        "id": "cb4d1ae2-967b-4df0-9bf0-2872b0c53535"
      },
      "source": [
        "### Question 9\n",
        "##### Accuracy Plot\n",
        "* Create `mal_train_X`, `mal_train_y`,`ben_train_X`,`ben_train_y`, `mal_test_X`,`mal_test_y`, `ben_test_X` and `ben_test_y` portions of the dataset. Where `mal_train_X` contains all training samples that belongs to malignant class while `mal_train_y` contains all labels of the samples that belongs to malignant class, and so on for other variables.\n",
        "\n",
        "* Calculate Accuracy scores for each case and save all the results in a list called `scores` using knn model from question 5.\n",
        "\n",
        "Try using the plotting function below to visualize the differet predicition scores between training and test sets, as well as malignant and benign cells."
      ]
    },
    {
      "cell_type": "code",
      "execution_count": null,
      "id": "830729b6-9aa7-46c5-8cd1-04a3a7408f3a",
      "metadata": {
        "id": "830729b6-9aa7-46c5-8cd1-04a3a7408f3a"
      },
      "outputs": [],
      "source": [
        "def accuracy_plot():\n",
        "    import matplotlib.pyplot as plt\n",
        "\n",
        "    %matplotlib inline\n",
        "\n",
        "    X_train, X_test, y_train, y_test = answer_four()\n",
        "\n",
        "    # Find the training and testing accuracies by target value (i.e. malignant, benign)\n",
        "\n",
        "    # #################################################################################\n",
        "    # ###################### Write your code here #####################################\n",
        "    # #################################################################################\n",
        "    mal_train_X =  X_train[y_train['target']==0]\n",
        "    mal_train_y =  y_train[y_train['target']==0]\n",
        "    ben_train_X =  X_train[y_train['target']==1]\n",
        "    ben_train_y =  y_train[y_train['target']==1]\n",
        "\n",
        "    mal_test_X =  X_test[y_test['target']==0]\n",
        "    mal_test_y =  y_test[y_test['target']==0]\n",
        "    ben_test_X = X_test[y_test['target']==1]\n",
        "    ben_test_y = y_test[y_test['target']==1]\n",
        "\n",
        "    knn = answer_five()\n",
        "\n",
        "    scores = np.array([knn.score( mal_train_X,  mal_train_y) ,\n",
        "              knn.score( ben_train_X,  ben_train_y) ,\n",
        "              knn.score( mal_test_X,  mal_test_y) ,\n",
        "              knn.score( ben_test_X,  ben_test_y)\n",
        "              ])\n",
        "    # print(scores)\n",
        "\n",
        "    plt.figure()\n",
        "\n",
        "    # Plot the scores as a bar chart\n",
        "    bars = plt.bar(np.arange(4), scores, color=['#4c72b0','#4c72b0','#55a868','#55a868'])\n",
        "\n",
        "    # directly label the score onto the bars\n",
        "    for bar in bars:\n",
        "        height = bar.get_height()\n",
        "        plt.gca().text(bar.get_x() + bar.get_width()/2, height*.90, '{0:.{1}f}'.format(height, 2),\n",
        "                     ha='center', color='w', fontsize=11)\n",
        "\n",
        "    # remove all the ticks (both axes), and tick labels on the Y axis\n",
        "    plt.tick_params(top='off', bottom='off', left='off', right='off', labelleft='off', labelbottom='on')\n",
        "\n",
        "    # remove the frame of the chart\n",
        "    for spine in plt.gca().spines.values():\n",
        "        spine.set_visible(False)\n",
        "\n",
        "    plt.xticks([0,1,2,3], ['Malignant\\nTraining', 'Benign\\nTraining', 'Malignant\\nTest', 'Benign\\nTest'], alpha=0.8);\n",
        "    plt.title('Training and Test Accuracies for Malignant and Benign Cells', alpha=0.8)\n"
      ]
    },
    {
      "cell_type": "code",
      "execution_count": null,
      "id": "75e16042-fcea-4769-87cb-3d289ebcd479",
      "metadata": {
        "id": "75e16042-fcea-4769-87cb-3d289ebcd479",
        "colab": {
          "base_uri": "https://localhost:8080/",
          "height": 348
        },
        "outputId": "d7836ce0-7adc-4d5f-f8f6-29bb2d8f4b56"
      },
      "outputs": [
        {
          "output_type": "stream",
          "name": "stderr",
          "text": [
            "/usr/local/lib/python3.8/dist-packages/sklearn/neighbors/_classification.py:198: DataConversionWarning: A column-vector y was passed when a 1d array was expected. Please change the shape of y to (n_samples,), for example using ravel().\n",
            "  return self._fit(X, y)\n"
          ]
        },
        {
          "output_type": "display_data",
          "data": {
            "text/plain": [
              "<Figure size 432x288 with 1 Axes>"
            ],
            "image/png": "[encoded data removed]"
          },
          "metadata": {
            "needs_background": "light"
          }
        }
      ],
      "source": [
        "accuracy_plot()"
      ]
    },
    {
      "cell_type": "markdown",
      "id": "d3dda16d-0a7f-4376-a1e6-a82ca8b8e6eb",
      "metadata": {
        "id": "d3dda16d-0a7f-4376-a1e6-a82ca8b8e6eb"
      },
      "source": [
        "### Question 10\n",
        "1. Load Iris dataset from sklearn.\n",
        "2. Split the data into training and testing (30% testing)\n",
        "3. Create scatter plot.\n",
        "4. From the scatter plot choose two features only to train a knn model with suitable \"k\" of your choice.\n",
        "5. Evaluate your model performance and comment on your results."
      ]
    },
    {
      "cell_type": "code",
      "execution_count": null,
      "id": "8a8d4298",
      "metadata": {
        "id": "8a8d4298"
      },
      "outputs": [],
      "source": [
        "#imports\n",
        "from sklearn.datasets import load_iris\n",
        "from sklearn.model_selection import train_test_split\n",
        "from matplotlib import cm\n",
        "from sklearn.neighbors import KNeighborsClassifier\n",
        "import matplotlib.pyplot as plt"
      ]
    },
    {
      "cell_type": "code",
      "source": [
        "#Load Iris dataset from sklearn\n",
        "\n",
        "iris = load_iris()\n",
        "\n",
        "#Split the data into training and testing (30% testing)\n",
        "iris_df = pd.DataFrame(iris.data, columns=iris.feature_names )\n",
        "iris_df['target']= iris.target\n",
        "\n",
        "X = iris_df.iloc[:, 0:-1]\n",
        "y = iris_df.iloc[:, -1:]\n",
        "X_train, X_test, y_train, y_test = train_test_split(X, y,test_size= 0.3 ,random_state=0)\n",
        "# print(X_train.keys())\n"
      ],
      "metadata": {
        "id": "gk8ZfvaII4nn"
      },
      "id": "gk8ZfvaII4nn",
      "execution_count": null,
      "outputs": []
    },
    {
      "cell_type": "code",
      "source": [
        "#Create scatter plot.\n",
        "cmap = cm.get_cmap('gnuplot')\n",
        "y_train_list = y_train.values.tolist()\n",
        "\n",
        "scatter = pd.plotting.scatter_matrix(X_train, c= y_train_list, marker = 'o', s=40, hist_kwds={'bins':15}, figsize=(10,10), cmap=cmap)\n",
        "\n",
        "#From the scatter plot choose two features only to train a knn model with suitable \"k\" of your choice.\n",
        "\n",
        "knn = KNeighborsClassifier(n_neighbors = 5)\n",
        "X_train_choosen =X_train[['petal length (cm)',\n",
        "       'petal width (cm)']].copy()\n",
        "\n",
        "X_test_choosen= X_test[['petal length (cm)',\n",
        "       'petal width (cm)']].copy()\n",
        "\n",
        "knn.fit(X_train_choosen, y_train)\n"
      ],
      "metadata": {
        "colab": {
          "base_uri": "https://localhost:8080/",
          "height": 673
        },
        "id": "hUhS89W5I-ty",
        "outputId": "f10b0393-8e05-4c22-f8ed-5fdcb795e70b"
      },
      "id": "hUhS89W5I-ty",
      "execution_count": null,
      "outputs": [
        {
          "output_type": "stream",
          "name": "stderr",
          "text": [
            "/usr/local/lib/python3.8/dist-packages/sklearn/neighbors/_classification.py:198: DataConversionWarning: A column-vector y was passed when a 1d array was expected. Please change the shape of y to (n_samples,), for example using ravel().\n",
            "  return self._fit(X, y)\n"
          ]
        },
        {
          "output_type": "execute_result",
          "data": {
            "text/plain": [
              "KNeighborsClassifier()"
            ]
          },
          "metadata": {},
          "execution_count": 38
        },
        {
          "output_type": "display_data",
          "data": {
            "text/plain": [
              "<Figure size 720x720 with 16 Axes>"
            ],
            "image/png": "[encoded data removed]"
          },
          "metadata": {
            "needs_background": "light"
          }
        }
      ]
    },
    {
      "cell_type": "code",
      "source": [
        "\n",
        "#Evaluate your model performance\n",
        "score = knn.score(X_test_choosen, y_test)\n",
        "\n",
        "\n",
        "zero_train_X =  X_train_choosen[y_train['target']==0]\n",
        "zero_train_y =  y_train[y_train['target']==0]\n",
        "one_train_X =  X_train_choosen[y_train['target']==1]\n",
        "one_train_y =  y_train[y_train['target']==1]\n",
        "two_train_X =  X_train_choosen[y_train['target']==2]\n",
        "two_train_y =  y_train[y_train['target']==2]\n",
        "\n",
        "zero_test_X =  X_test_choosen[y_test['target']==0]\n",
        "zero_test_y =  y_test[y_test['target']==0]\n",
        "one_test_X = X_test_choosen[y_test['target']==1]\n",
        "one_test_y = y_test[y_test['target']==1]\n",
        "two_test_X = X_test_choosen[y_test['target']==2]\n",
        "two_test_y = y_test[y_test['target']==2]\n",
        "\n",
        "scores = [knn.score( zero_train_X,  zero_train_y) ,\n",
        "          knn.score( one_train_X,  one_train_y) ,\n",
        "          knn.score( two_train_X,  two_train_y) ,\n",
        "          knn.score( zero_test_X,  zero_test_y) ,\n",
        "          knn.score( one_test_X,  one_test_y) ,\n",
        "          knn.score( two_test_X,  two_test_y)\n",
        "          ]\n",
        "\n",
        "plt.figure()\n",
        "\n",
        "# Plot the scores as a bar chart\n",
        "bars = plt.bar(np.arange(6), scores, color=['#4c72b0','#4c72b0', '#4c72b0','#55a868','#55a868' ,'#55a868' ])\n",
        "\n",
        "# directly label the score onto the bars\n",
        "for bar in bars:\n",
        "    height = bar.get_height()\n",
        "    plt.gca().text(bar.get_x() + bar.get_width()/2, height*.90, '{0:.{1}f}'.format(height, 2),\n",
        "                  ha='center', color='w', fontsize=11)\n",
        "\n",
        "# remove all the ticks (both axes), and tick labels on the Y axis\n",
        "plt.tick_params(top='off', bottom='off', left='off', right='off', labelleft='off', labelbottom='on')\n",
        "\n",
        "# remove the frame of the chart\n",
        "for spine in plt.gca().spines.values():\n",
        "    spine.set_visible(False)\n",
        "\n",
        "plt.xticks([0,1,2,3, 4 ,5], ['zero\\nTraining', 'one\\nTraining','two\\nTraining', 'zero\\nTest', 'one\\nTest' ,'two\\nTest'], alpha=0.8);\n",
        "plt.title('Training and Test Accuracies', alpha=0.8)\n",
        "# comment on your results.\n",
        "print(\"COMMENT: the testing accuracy is slightly higher than the training accuracy and that may be due to the train/test split percentage\")\n"
      ],
      "metadata": {
        "colab": {
          "base_uri": "https://localhost:8080/",
          "height": 310
        },
        "id": "exrS6Z_gJG_t",
        "outputId": "af941f84-1630-4e80-cb80-b8c59470ae38"
      },
      "id": "exrS6Z_gJG_t",
      "execution_count": null,
      "outputs": [
        {
          "output_type": "stream",
          "name": "stdout",
          "text": [
            "COMMENT: the testing accuracy is slightly higher than the training accuracy and that may be due to the train/test split percentage\n"
          ]
        },
        {
          "output_type": "display_data",
          "data": {
            "text/plain": [
              "<Figure size 432x288 with 1 Axes>"
            ],
            "image/png": "[encoded data removed]"
          },
          "metadata": {
            "needs_background": "light"
          }
        }
      ]
    }
  ],
  "metadata": {
    "colab": {
      "provenance": []
    },
    "kernelspec": {
      "display_name": "Python 3 (ipykernel)",
      "language": "python",
      "name": "python3"
    },
    "language_info": {
      "codemirror_mode": {
        "name": "ipython",
        "version": 3
      },
      "file_extension": ".py",
      "mimetype": "text/x-python",
      "name": "python",
      "nbconvert_exporter": "python",
      "pygments_lexer": "ipython3",
      "version": "3.9.10"
    }
  },
  "nbformat": 4,
  "nbformat_minor": 5
}